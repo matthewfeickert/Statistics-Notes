{
 "cells": [
  {
   "cell_type": "markdown",
   "metadata": {},
   "source": [
    "# Rejection Sampling"
   ]
  },
  {
   "cell_type": "markdown",
   "metadata": {},
   "source": [
    "Rejection sampling, or \"accept-reject Monte Carlo\" is a Monte Carlo method used to generate obsrvations from distributions. As it is a Monte Carlo it can also be used for numerical integration."
   ]
  },
  {
   "cell_type": "markdown",
   "metadata": {},
   "source": [
    "## Monte Carlo Integration"
   ]
  },
  {
   "cell_type": "markdown",
   "metadata": {},
   "source": [
    "### Example: Approximation of $\\pi$"
   ]
  },
  {
   "cell_type": "markdown",
   "metadata": {},
   "source": [
    "Enclose a quadrant of a circle of radius $1$ in a square of side length $1$. Then uniformly sample points inside the bounds of the square in Cartesian coordinates. If the point lies inside the circle quadrant record this information. At the ends of many throws the ratio of points inside the circle to all points thrown will approximate the ratio of the area of the cricle quadrant to the area of the square"
   ]
  },
  {
   "cell_type": "markdown",
   "metadata": {},
   "source": [
    "$$\n",
    "\\frac{\\text{points inside circle}}{\\text{all points thrown}} \\approx \\frac{\\text{area of circle quadrant}}{\\text{area of square}} = \\frac{\\pi r^2}{4\\, l^2} = \\frac{\\pi}{4},\n",
    "$$"
   ]
  },
  {
   "cell_type": "markdown",
   "metadata": {},
   "source": [
    "thus, an approximation of $\\pi$ can be found to be"
   ]
  },
  {
   "cell_type": "markdown",
   "metadata": {},
   "source": [
    "$$\n",
    "\\pi \\approx 4 \\cdot \\frac{\\text{points inside circle}}{\\text{all points thrown}}.\n",
    "$$"
   ]
  },
  {
   "cell_type": "code",
   "execution_count": null,
   "metadata": {},
   "outputs": [],
   "source": [
    "import numpy as np\n",
    "import matplotlib.pyplot as plt"
   ]
  },
  {
   "cell_type": "code",
   "execution_count": null,
   "metadata": {},
   "outputs": [],
   "source": [
    "def approximate_pi(n_throws=10000, draw=True):\n",
    "    n_circle_points = 0\n",
    "\n",
    "    x_coord = np.random.uniform(0, 1, n_throws)\n",
    "    y_coord = np.random.uniform(0, 1, n_throws)\n",
    "\n",
    "    circle_x = []\n",
    "    circle_y = []\n",
    "    outside_x = []\n",
    "    outside_y = []\n",
    "\n",
    "    for x, y in zip(x_coord, y_coord):\n",
    "        radius = np.sqrt(x ** 2 + y ** 2)\n",
    "        if 1 > radius:\n",
    "            n_circle_points += 1\n",
    "            circle_x.append(x)\n",
    "            circle_y.append(y)\n",
    "        else:\n",
    "            outside_x.append(x)\n",
    "            outside_y.append(y)\n",
    "\n",
    "    approx_pi = 4 * (n_circle_points / n_throws)\n",
    "    print(f\"The approximation of pi after {n_throws} throws is: {approx_pi}\")\n",
    "\n",
    "    if draw:\n",
    "        plt.plot(circle_x, circle_y, \"ro\")\n",
    "        plt.plot(outside_x, outside_y, \"bo\")\n",
    "        plt.xlabel(r\"$x$\")\n",
    "        plt.ylabel(r\"$y$\")\n",
    "        plt.show()"
   ]
  },
  {
   "cell_type": "code",
   "execution_count": null,
   "metadata": {},
   "outputs": [],
   "source": [
    "approximate_pi()"
   ]
  },
  {
   "cell_type": "markdown",
   "metadata": {},
   "source": [
    "## Sampling Distributions"
   ]
  },
  {
   "cell_type": "markdown",
   "metadata": {},
   "source": [
    "To approximate a statistical distribution one can also use accept-reject Monte Carlo to approximate the distribution."
   ]
  },
  {
   "cell_type": "markdown",
   "metadata": {},
   "source": [
    "### Example: Approximation of Gaussian Distribution"
   ]
  },
  {
   "cell_type": "code",
   "execution_count": null,
   "metadata": {},
   "outputs": [],
   "source": [
    "import scipy.stats as stats"
   ]
  },
  {
   "cell_type": "markdown",
   "metadata": {},
   "source": [
    "The Gaussian has a known analytic form"
   ]
  },
  {
   "cell_type": "markdown",
   "metadata": {},
   "source": [
    "$$\n",
    "f\\left(\\vec{x}\\,\\middle|\\,\\mu, \\sigma\\right) = \\frac{1}{\\sqrt{2\\pi}\\, \\sigma} e^{-\\left(x-\\mu\\right)^2/2\\sigma^2}\n",
    "$$"
   ]
  },
  {
   "cell_type": "code",
   "execution_count": null,
   "metadata": {},
   "outputs": [],
   "source": [
    "x = np.linspace(-5.0, 5.0, num=10000)\n",
    "plt.plot(x, stats.norm.pdf(x, 0, 1), linewidth=2, color=\"black\")\n",
    "\n",
    "# Axes\n",
    "# plt.title('Plot of  $f(x;\\mu,\\sigma)$')\n",
    "plt.xlabel(r\"$x$\")\n",
    "plt.ylabel(r\"$f(\\vec{x}|\\mu,\\sigma)$\")\n",
    "# dist_window_w = sigma * 2\n",
    "plt.xlim([-5, 5])\n",
    "plt.show()"
   ]
  },
  {
   "cell_type": "markdown",
   "metadata": {},
   "source": [
    "Given this it is seen that the Gaussian's maximum is at its mean. For the standard Gaussian this is at $\\mu = 0$, and so it has a maximum at $1/\\sqrt{2\\pi}\\,\\sigma \\approx 0.39$. Thus, this can be the maximum height of a rectangle that we need to throw our points in."
   ]
  },
  {
   "cell_type": "code",
   "execution_count": null,
   "metadata": {},
   "outputs": [],
   "source": [
    "def approximate_Guassian(n_throws=10000, x_range=[-5, 5], draw=True):\n",
    "    n_accept = 0\n",
    "\n",
    "    x_coord = np.random.uniform(x_range[0], x_range[1], n_throws)\n",
    "    y_coord = np.random.uniform(0, stats.norm.pdf(0, 0, 1), n_throws)\n",
    "    # Use Freedman–Diaconis rule\n",
    "    # https://en.wikipedia.org/wiki/Freedman%E2%80%93Diaconis_rule\n",
    "    h = 2 * stats.iqr(x_coord) / np.cbrt([n_throws])\n",
    "    n_bins = int((x_range[1] - x_range[0]) / h)\n",
    "\n",
    "    accept_x = []\n",
    "    accept_y = []\n",
    "    reject_x = []\n",
    "    reject_y = []\n",
    "\n",
    "    for x, y in zip(x_coord, y_coord):\n",
    "        if stats.norm.pdf(x, 0, 1) > y:\n",
    "            n_accept += 1\n",
    "            accept_x.append(x)\n",
    "            accept_y.append(y)\n",
    "        else:\n",
    "            reject_x.append(x)\n",
    "            reject_y.append(y)\n",
    "\n",
    "    if draw:\n",
    "        fig, axes = plt.subplots(nrows=1, ncols=2, figsize=(1.2 * 14, 1.2 * 4.5))\n",
    "\n",
    "        x_space = np.linspace(x_range[0], x_range[1], num=10000)\n",
    "        axes[0].plot(accept_x, accept_y, \"ro\")\n",
    "        axes[0].plot(reject_x, reject_y, \"bo\")\n",
    "        axes[0].plot(x_space, stats.norm.pdf(x_space, 0, 1), linewidth=2, color=\"black\")\n",
    "        axes[0].set_xlabel(r\"$x$\")\n",
    "        axes[0].set_ylabel(r\"$y$\")\n",
    "        axes[0].set_title(r\"Sampled space of $f(\\vec{x}|\\mu,\\sigma)$\")\n",
    "\n",
    "        hist_count, bins, _ = axes[1].hist(accept_x, n_bins, density=True)\n",
    "        axes[1].set_xlabel(r\"$x$\")\n",
    "        axes[1].set_ylabel(\"Arbitrary normalized units\")\n",
    "        axes[1].set_title(r\"Normalized binned distribution of accepted toys\")\n",
    "\n",
    "        plt.xlim(x_range)\n",
    "        plt.show()"
   ]
  },
  {
   "cell_type": "code",
   "execution_count": null,
   "metadata": {},
   "outputs": [],
   "source": [
    "approximate_Guassian()"
   ]
  },
  {
   "cell_type": "markdown",
   "metadata": {},
   "source": [
    "This exercise is trivial but for more complex functional forms with more difficult integrals it can be a powerful numerical technique."
   ]
  }
 ],
 "metadata": {
  "kernelspec": {
   "display_name": "Python 3",
   "language": "python",
   "name": "python3"
  },
  "language_info": {
   "codemirror_mode": {
    "name": "ipython",
    "version": 3
   },
   "file_extension": ".py",
   "mimetype": "text/x-python",
   "name": "python",
   "nbconvert_exporter": "python",
   "pygments_lexer": "ipython3",
   "version": "3.7.5"
  }
 },
 "nbformat": 4,
 "nbformat_minor": 4
}

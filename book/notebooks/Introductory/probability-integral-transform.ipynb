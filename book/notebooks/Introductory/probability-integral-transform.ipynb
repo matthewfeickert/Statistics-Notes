{
 "cells": [
  {
   "cell_type": "markdown",
   "metadata": {},
   "source": [
    "[Matthew Feickert](http://www.matthewfeickert.com/), October 2016"
   ]
  },
  {
   "cell_type": "code",
   "execution_count": 1,
   "metadata": {
    "collapsed": true,
    "jupyter": {
     "outputs_hidden": true
    }
   },
   "outputs": [],
   "source": [
    "import numpy as np\n",
    "import scipy.stats as stats\n",
    "import scipy.optimize as optimize\n",
    "%matplotlib inline\n",
    "import matplotlib.patches as mpatches\n",
    "import matplotlib.pyplot as plt"
   ]
  },
  {
   "cell_type": "markdown",
   "metadata": {},
   "source": [
    "# Probability integral transform"
   ]
  },
  {
   "cell_type": "markdown",
   "metadata": {},
   "source": [
    "The probability integral transform states that if $X$ is a continuous random variable with cumulative distribution function $F_{X}$, then the random variable $\\displaystyle Y=F_{X}(X)$ has a uniform distribution on $[0, 1]$. The inverse of this is the \"[inverse probability integral transform](https://en.wikipedia.org/wiki/Inverse_transform_sampling).'' [[1]](#Ref:Wikipedia_Probability-integral-transform)"
   ]
  },
  {
   "cell_type": "markdown",
   "metadata": {},
   "source": [
    "## \"Proof\""
   ]
  },
  {
   "cell_type": "markdown",
   "metadata": {},
   "source": [
    "Let a random variable, $Y$, be defined by $Y = \\displaystyle F_{X}(X)$ where $X$ is another random variable. Then,"
   ]
  },
  {
   "cell_type": "markdown",
   "metadata": {},
   "source": [
    "\\begin{split}\n",
    "F_{Y}(y) &= \\text{P}(Y \\leq y)\\\\\n",
    " &= \\text{P}(F_{X}(X) \\leq y) \\\\\n",
    " &= \\text{P}(F_{X}(X) \\leq F_{X}^{-1}(y)) \\\\\n",
    " &= F_{X}(F_{X}^{-1}(y)) \\\\\n",
    " &= y.\n",
    "\\end{split}"
   ]
  },
  {
   "cell_type": "markdown",
   "metadata": {},
   "source": [
    "$\\displaystyle F_{Y}(y) = y$ describes the cumulative distribution function of a random variable, i.e., $Y = \\displaystyle F_{X}(X)$, uniformly distributed on $[0,1]$. [[1]](#Ref:Wikipedia_Probability-integral-transform)"
   ]
  },
  {
   "cell_type": "markdown",
   "metadata": {},
   "source": [
    "### Alternative View: A Change of variables"
   ]
  },
  {
   "cell_type": "markdown",
   "metadata": {},
   "source": [
    "Consider the variable transformation"
   ]
  },
  {
   "cell_type": "markdown",
   "metadata": {},
   "source": [
    "\\begin{equation*}\n",
    "y(x) = F(x) = \\int\\limits_{-\\infty}^{x} f(x')\\,dx'.\n",
    "\\end{equation*}"
   ]
  },
  {
   "cell_type": "markdown",
   "metadata": {},
   "source": [
    "So the transofrmation from the distribution $f(x)$ to the distribution $f(y)$ required a Jacobian (determinant),"
   ]
  },
  {
   "cell_type": "markdown",
   "metadata": {},
   "source": [
    "\\begin{split}\n",
    "\\frac{dy}{dx} &= \\frac{d}{dx} \\int\\limits_{-\\infty}^{x} f(x')\\,dx' \\\\\n",
    " &= f(x),\n",
    "\\end{split}"
   ]
  },
  {
   "cell_type": "markdown",
   "metadata": {},
   "source": [
    "such that the distribution of $y$ is"
   ]
  },
  {
   "cell_type": "markdown",
   "metadata": {},
   "source": [
    "\\begin{split}\n",
    "f(y) &= \\left(\\frac{1}{\\left|\\frac{dy}{dx}\\right|}\\right) \\,f(x) \\\\\n",
    " &= \\frac{f(x)}{f(x)}\\\\\n",
    " &= 1,\n",
    "\\end{split}"
   ]
  },
  {
   "cell_type": "markdown",
   "metadata": {},
   "source": [
    "which is the probability density function for the Uniform distribution from $[0,1]$. [[2]](#Ref:Cranmer)"
   ]
  },
  {
   "cell_type": "markdown",
   "metadata": {},
   "source": [
    "## Example:"
   ]
  },
  {
   "cell_type": "markdown",
   "metadata": {},
   "source": [
    "Let's *uniformly* sample $n$ measurements from a Gaussian distribution with true mean $\\mu$ and true standard deviation $\\sigma$."
   ]
  },
  {
   "cell_type": "code",
   "execution_count": 2,
   "metadata": {
    "collapsed": true,
    "jupyter": {
     "outputs_hidden": true
    }
   },
   "outputs": [],
   "source": [
    "x = np.linspace(-5.0, 5.0, num=10000)\n",
    "# mean and standard deviation\n",
    "mu = 0\n",
    "sigma = 1\n",
    "\n",
    "# sample the distribution\n",
    "number_of_samples = 5000\n",
    "samples = np.random.normal(mu, sigma, number_of_samples)\n",
    "samples.sort()"
   ]
  },
  {
   "cell_type": "code",
   "execution_count": 3,
   "metadata": {
    "collapsed": true,
    "jupyter": {
     "outputs_hidden": true
    }
   },
   "outputs": [],
   "source": [
    "# get sample parameters\n",
    "sample_mean = np.mean(samples)\n",
    "sample_std = np.std(samples)"
   ]
  },
  {
   "cell_type": "code",
   "execution_count": 4,
   "metadata": {
    "collapsed": true,
    "jupyter": {
     "outputs_hidden": true
    }
   },
   "outputs": [],
   "source": [
    "true_distribution = stats.norm.pdf(x, mu, sigma)"
   ]
  },
  {
   "cell_type": "markdown",
   "metadata": {},
   "source": [
    "Histogram the distribution"
   ]
  },
  {
   "cell_type": "code",
   "execution_count": 5,
   "metadata": {},
   "outputs": [
    {
     "data": {
      "image/png": "[encoded data removed]",
      "text/plain": [
       "<matplotlib.figure.Figure at 0x7f52adf8ea20>"
      ]
     },
     "metadata": {},
     "output_type": "display_data"
    }
   ],
   "source": [
    "n_bins = 1\n",
    "if number_of_samples < 50:\n",
    "    n_bins = number_of_samples\n",
    "else:\n",
    "    n_bins = 50\n",
    "\n",
    "# Plots\n",
    "plt.figure(1)\n",
    "\n",
    "# Plot histogram of samples\n",
    "hist_count, bins, _ = plt.hist(samples, n_bins, normed=True) #Norm to keep distribution in view\n",
    "# Plot distribution using sample parameters\n",
    "plt.plot(x, true_distribution, linewidth=2, color='black')\n",
    "\n",
    "# Axes\n",
    "plt.title('Plot of distribution from samples')\n",
    "plt.xlabel('$x$')\n",
    "plt.ylabel('count (normalized to unit area)')\n",
    "sample_window_w = sample_std * 1.5\n",
    "#plt.xlim([sample_mean - sample_window_w, sample_mean + sample_window_w])\n",
    "plt.xlim([-4, 4])\n",
    "plt.ylim([0, hist_count.max() * 1.6])\n",
    "\n",
    "# Legends\n",
    "sample_patch = mpatches.Patch(color='black',\n",
    "                              label='distribution: $f(x;\\mu={},\\sigma={})$'.format(mu,sigma))\n",
    "data_patch = mpatches.Patch(color='blue',\n",
    "                            label='Histogram of {} samples of the distribution'.format(number_of_samples))\n",
    "\n",
    "plt.legend(handles=[data_patch, sample_patch])\n",
    "\n",
    "plt.show()\n",
    "#print(samples)"
   ]
  },
  {
   "cell_type": "markdown",
   "metadata": {},
   "source": [
    "Now let's feed our samples through the cumulative distribution function"
   ]
  },
  {
   "cell_type": "code",
   "execution_count": 6,
   "metadata": {},
   "outputs": [
    {
     "data": {
      "image/png": "[encoded data removed]",
      "text/plain": [
       "<matplotlib.figure.Figure at 0x7f52aa846208>"
      ]
     },
     "metadata": {},
     "output_type": "display_data"
    }
   ],
   "source": [
    "# Plots\n",
    "plt.figure(1)\n",
    "\n",
    "# Plot distribution using sample parameters\n",
    "plt.plot(x, stats.norm.cdf(x), linewidth=2, color='black')\n",
    "\n",
    "# Axes\n",
    "plt.title('cumulative distribution function for the Gaussian')\n",
    "plt.xlabel('$x$')\n",
    "plt.ylabel('$F(x)$')\n",
    "\n",
    "plt.xlim([-5, 5])\n",
    "plt.ylim([0, 1.1])\n",
    "\n",
    "plt.show()"
   ]
  },
  {
   "cell_type": "code",
   "execution_count": 7,
   "metadata": {
    "collapsed": true,
    "jupyter": {
     "outputs_hidden": true
    }
   },
   "outputs": [],
   "source": [
    "output = stats.norm.cdf(samples)\n",
    "#print(output)"
   ]
  },
  {
   "cell_type": "markdown",
   "metadata": {},
   "source": [
    "Now let's plot the output and compare it to the uniform distribution."
   ]
  },
  {
   "cell_type": "code",
   "execution_count": 8,
   "metadata": {
    "collapsed": true,
    "jupyter": {
     "outputs_hidden": true
    }
   },
   "outputs": [],
   "source": [
    "# uniform distirbution\n",
    "uniform_distribution = stats.uniform.pdf(x)"
   ]
  },
  {
   "cell_type": "code",
   "execution_count": 9,
   "metadata": {
    "scrolled": true
   },
   "outputs": [
    {
     "data": {
      "image/png": "[encoded data removed]",
      "text/plain": [
       "<matplotlib.figure.Figure at 0x7f52aa832668>"
      ]
     },
     "metadata": {},
     "output_type": "display_data"
    }
   ],
   "source": [
    "# Plots\n",
    "plt.figure(1)\n",
    "\n",
    "# Plot histogram of samples\n",
    "hist_count, bins, _ = plt.hist(output, n_bins, normed=True) #Norm to keep distribution in view\n",
    "# Plot distribution using sample parameters\n",
    "plt.plot(x, uniform_distribution, linewidth=2, color='black')\n",
    "# Axes\n",
    "plt.title('Samples from the Gaussian transformed')\n",
    "plt.xlabel('$y$')\n",
    "plt.ylabel('count (normalized to unit area)')\n",
    "\n",
    "plt.xlim([-0.25, 1.25])\n",
    "plt.ylim([0, hist_count.max() * 1.4])\n",
    "\n",
    "# Legends\n",
    "sample_patch = mpatches.Patch(color='black',\n",
    "                              label='Uniform distribution on $[{},{}]$'.format(0,1))\n",
    "data_patch = mpatches.Patch(color='blue',\n",
    "                            label='Histogram of tranform of the samples')\n",
    "\n",
    "plt.legend(handles=[data_patch, sample_patch])\n",
    "\n",
    "plt.show()"
   ]
  },
  {
   "cell_type": "markdown",
   "metadata": {},
   "source": [
    "Now let's use the quantile function to recover the original Gaussian distribution from the Uniform distribution."
   ]
  },
  {
   "cell_type": "code",
   "execution_count": 10,
   "metadata": {
    "collapsed": true,
    "jupyter": {
     "outputs_hidden": true
    }
   },
   "outputs": [],
   "source": [
    "recovered = stats.norm.ppf(output)"
   ]
  },
  {
   "cell_type": "code",
   "execution_count": 11,
   "metadata": {},
   "outputs": [
    {
     "data": {
      "image/png": "[encoded data removed]",
      "text/plain": [
       "<matplotlib.figure.Figure at 0x7f52aa7105c0>"
      ]
     },
     "metadata": {},
     "output_type": "display_data"
    }
   ],
   "source": [
    "# Plots\n",
    "plt.figure(1)\n",
    "\n",
    "# Plot histogram of samples\n",
    "hist_count, bins, _ = plt.hist(recovered, n_bins, normed=True) #Norm to keep distribution in view\n",
    "# Plot distribution using sample parameters\n",
    "plt.plot(x, true_distribution, linewidth=2, color='black')\n",
    "# Axes\n",
    "plt.title('Samples transformed from the Uniform')\n",
    "plt.xlabel('$x$')\n",
    "plt.ylabel('count (normalized to unit area)')\n",
    "\n",
    "plt.xlim([-4, 4])\n",
    "plt.ylim([0, hist_count.max() * 1.6])\n",
    "\n",
    "# Legends\n",
    "sample_patch = mpatches.Patch(color='black',\n",
    "                              label='distribution: $f(x;\\mu={},\\sigma={})$'.format(mu,sigma))\n",
    "data_patch = mpatches.Patch(color='blue',\n",
    "                            label='Histogram of tranform of the samples')\n",
    "\n",
    "plt.legend(handles=[data_patch, sample_patch])\n",
    "\n",
    "plt.show()"
   ]
  },
  {
   "cell_type": "markdown",
   "metadata": {},
   "source": [
    "## Summary"
   ]
  },
  {
   "cell_type": "markdown",
   "metadata": {},
   "source": [
    "Thus, we have seen that taking a distribution (pdf) $X$, and transforming it through the distribution's cdf will result in an uniform distribution, $U$, and that transforming $U$ through the quantile function of $X$ will result in the pdf of $X$. Transformations back and forth between $X$ and $U$ by careful use of the properties of the cdf and quantile functions is a useful thing to think about. [[3]](#Ref:Hetherly)"
   ]
  },
  {
   "cell_type": "markdown",
   "metadata": {},
   "source": [
    "# References\n",
    " 1. <a id='Ref:Wikipedia_Probability-integral-transform'></a> Wikipedia, [Probability integral transform](https://en.wikipedia.org/wiki/Probability_integral_transform)\n",
    " 2. <a id='Ref:Cranmer'></a> K. Cranmer, [\"How do distributions transform under a change of variables?\"](http://nbviewer.jupyter.org/github/cranmer/intro-exp-phys-II/blob/master/change-of-variables.ipynb)\n",
    " 3. <a id='Ref:Hetherly'></a> J. Hetherly, Discussions with the author while at CERN, October 2016"
   ]
  }
 ],
 "metadata": {
  "anaconda-cloud": {},
  "kernelspec": {
   "display_name": "Python 3",
   "language": "python",
   "name": "python3"
  },
  "language_info": {
   "codemirror_mode": {
    "name": "ipython",
    "version": 3
   },
   "file_extension": ".py",
   "mimetype": "text/x-python",
   "name": "python",
   "nbconvert_exporter": "python",
   "pygments_lexer": "ipython3",
   "version": "3.7.5"
  }
 },
 "nbformat": 4,
 "nbformat_minor": 4
}
